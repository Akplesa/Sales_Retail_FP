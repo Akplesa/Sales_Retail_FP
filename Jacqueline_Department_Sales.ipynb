{
 "cells": [
  {
   "cell_type": "code",
   "execution_count": 1,
   "metadata": {
    "collapsed": true
   },
   "outputs": [],
   "source": [
    "import pandas as pd\n",
    "import datetime"
   ]
  },
  {
   "cell_type": "code",
   "execution_count": 2,
   "metadata": {
    "collapsed": true
   },
   "outputs": [
    {
     "output_type": "execute_result",
     "data": {
      "text/plain": [
       "    sale_date  store  temperature  fuel_price  markdown1  markdown2  \\\n",
       "0  2012-09-28     16        51.40       3.789    2130.57       3.82   \n",
       "1  2012-10-19     16        40.59       3.750    1278.03        NaN   \n",
       "2  2012-10-26     16        40.99       3.686    2285.52      20.48   \n",
       "3  2010-02-19     16        21.13       2.550        NaN        NaN   \n",
       "4  2010-02-26     16        18.12       2.586        NaN        NaN   \n",
       "\n",
       "   markdown3  markdown4  markdown5  unemployment  isholiday  dept  \\\n",
       "0        NaN     583.90    1409.43         6.061      False    27   \n",
       "1       1.16      16.38    1395.48         5.847      False    27   \n",
       "2        NaN     201.97    1237.41         5.847      False    27   \n",
       "3        NaN        NaN        NaN         7.039      False    28   \n",
       "4        NaN        NaN        NaN         7.039      False    28   \n",
       "\n",
       "   weekly_sales  \n",
       "0        836.65  \n",
       "1        852.81  \n",
       "2        815.95  \n",
       "3        266.00  \n",
       "4        255.50  "
      ],
      "text/html": "<div>\n<style scoped>\n    .dataframe tbody tr th:only-of-type {\n        vertical-align: middle;\n    }\n\n    .dataframe tbody tr th {\n        vertical-align: top;\n    }\n\n    .dataframe thead th {\n        text-align: right;\n    }\n</style>\n<table border=\"1\" class=\"dataframe\">\n  <thead>\n    <tr style=\"text-align: right;\">\n      <th></th>\n      <th>sale_date</th>\n      <th>store</th>\n      <th>temperature</th>\n      <th>fuel_price</th>\n      <th>markdown1</th>\n      <th>markdown2</th>\n      <th>markdown3</th>\n      <th>markdown4</th>\n      <th>markdown5</th>\n      <th>unemployment</th>\n      <th>isholiday</th>\n      <th>dept</th>\n      <th>weekly_sales</th>\n    </tr>\n  </thead>\n  <tbody>\n    <tr>\n      <th>0</th>\n      <td>2012-09-28</td>\n      <td>16</td>\n      <td>51.40</td>\n      <td>3.789</td>\n      <td>2130.57</td>\n      <td>3.82</td>\n      <td>NaN</td>\n      <td>583.90</td>\n      <td>1409.43</td>\n      <td>6.061</td>\n      <td>False</td>\n      <td>27</td>\n      <td>836.65</td>\n    </tr>\n    <tr>\n      <th>1</th>\n      <td>2012-10-19</td>\n      <td>16</td>\n      <td>40.59</td>\n      <td>3.750</td>\n      <td>1278.03</td>\n      <td>NaN</td>\n      <td>1.16</td>\n      <td>16.38</td>\n      <td>1395.48</td>\n      <td>5.847</td>\n      <td>False</td>\n      <td>27</td>\n      <td>852.81</td>\n    </tr>\n    <tr>\n      <th>2</th>\n      <td>2012-10-26</td>\n      <td>16</td>\n      <td>40.99</td>\n      <td>3.686</td>\n      <td>2285.52</td>\n      <td>20.48</td>\n      <td>NaN</td>\n      <td>201.97</td>\n      <td>1237.41</td>\n      <td>5.847</td>\n      <td>False</td>\n      <td>27</td>\n      <td>815.95</td>\n    </tr>\n    <tr>\n      <th>3</th>\n      <td>2010-02-19</td>\n      <td>16</td>\n      <td>21.13</td>\n      <td>2.550</td>\n      <td>NaN</td>\n      <td>NaN</td>\n      <td>NaN</td>\n      <td>NaN</td>\n      <td>NaN</td>\n      <td>7.039</td>\n      <td>False</td>\n      <td>28</td>\n      <td>266.00</td>\n    </tr>\n    <tr>\n      <th>4</th>\n      <td>2010-02-26</td>\n      <td>16</td>\n      <td>18.12</td>\n      <td>2.586</td>\n      <td>NaN</td>\n      <td>NaN</td>\n      <td>NaN</td>\n      <td>NaN</td>\n      <td>NaN</td>\n      <td>7.039</td>\n      <td>False</td>\n      <td>28</td>\n      <td>255.50</td>\n    </tr>\n  </tbody>\n</table>\n</div>"
     },
     "metadata": {},
     "execution_count": 2
    }
   ],
   "source": [
    "def load_data():\n",
    "    data_path = \"Retail_Sales_Data/Official_Merged_SF.csv\"\n",
    "    return pd.read_csv(data_path)\n",
    "\n",
    "df = load_data()\n",
    "df.head()"
   ]
  },
  {
   "cell_type": "code",
   "execution_count": 3,
   "metadata": {},
   "outputs": [],
   "source": [
    "def whats_the_total():\n",
    "    df_compact = df[[\"sale_date\", \"store\", \"dept\", \"weekly_sales\"]]\n",
    "    df_compact.sale_date = pd.to_datetime(df_compact.sale_date)\n",
    "    return df_compact.groupby('store')['weekly_sales'].sum()"
   ]
  },
  {
   "cell_type": "code",
   "execution_count": 4,
   "metadata": {},
   "outputs": [
    {
     "output_type": "execute_result",
     "data": {
      "text/plain": [
       "       weekly_sales\n",
       "store              \n",
       "4      4.026201e+08\n",
       "20     3.976952e+08\n",
       "13     3.842439e+08\n",
       "14     3.821287e+08\n",
       "2      3.660356e+08"
      ],
      "text/html": "<div>\n<style scoped>\n    .dataframe tbody tr th:only-of-type {\n        vertical-align: middle;\n    }\n\n    .dataframe tbody tr th {\n        vertical-align: top;\n    }\n\n    .dataframe thead th {\n        text-align: right;\n    }\n</style>\n<table border=\"1\" class=\"dataframe\">\n  <thead>\n    <tr style=\"text-align: right;\">\n      <th></th>\n      <th>weekly_sales</th>\n    </tr>\n    <tr>\n      <th>store</th>\n      <th></th>\n    </tr>\n  </thead>\n  <tbody>\n    <tr>\n      <th>4</th>\n      <td>4.026201e+08</td>\n    </tr>\n    <tr>\n      <th>20</th>\n      <td>3.976952e+08</td>\n    </tr>\n    <tr>\n      <th>13</th>\n      <td>3.842439e+08</td>\n    </tr>\n    <tr>\n      <th>14</th>\n      <td>3.821287e+08</td>\n    </tr>\n    <tr>\n      <th>2</th>\n      <td>3.660356e+08</td>\n    </tr>\n  </tbody>\n</table>\n</div>"
     },
     "metadata": {},
     "execution_count": 4
    }
   ],
   "source": [
    "totals = whats_the_total()\n",
    "df_totals = pd.DataFrame(totals)\n",
    "df_totals_largest = df_totals.sort_values(by=['weekly_sales'], ascending=False)\n",
    "df_totals_largest.head()"
   ]
  },
  {
   "cell_type": "code",
   "execution_count": 5,
   "metadata": {},
   "outputs": [],
   "source": [
    "most_profitable_stores = [4, 20, 13, 14, 2]"
   ]
  },
  {
   "cell_type": "code",
   "execution_count": 6,
   "metadata": {},
   "outputs": [
    {
     "output_type": "execute_result",
     "data": {
      "text/plain": [
       "       weekly_sales\n",
       "store              \n",
       "33      49001669.18\n",
       "44      58174511.00\n",
       "5       60471643.08\n",
       "36      70497187.66\n",
       "38      72455156.44"
      ],
      "text/html": "<div>\n<style scoped>\n    .dataframe tbody tr th:only-of-type {\n        vertical-align: middle;\n    }\n\n    .dataframe tbody tr th {\n        vertical-align: top;\n    }\n\n    .dataframe thead th {\n        text-align: right;\n    }\n</style>\n<table border=\"1\" class=\"dataframe\">\n  <thead>\n    <tr style=\"text-align: right;\">\n      <th></th>\n      <th>weekly_sales</th>\n    </tr>\n    <tr>\n      <th>store</th>\n      <th></th>\n    </tr>\n  </thead>\n  <tbody>\n    <tr>\n      <th>33</th>\n      <td>49001669.18</td>\n    </tr>\n    <tr>\n      <th>44</th>\n      <td>58174511.00</td>\n    </tr>\n    <tr>\n      <th>5</th>\n      <td>60471643.08</td>\n    </tr>\n    <tr>\n      <th>36</th>\n      <td>70497187.66</td>\n    </tr>\n    <tr>\n      <th>38</th>\n      <td>72455156.44</td>\n    </tr>\n  </tbody>\n</table>\n</div>"
     },
     "metadata": {},
     "execution_count": 6
    }
   ],
   "source": [
    "df_totals_smallest = df_totals.sort_values(by=['weekly_sales'], ascending=True)\n",
    "df_totals_smallest.head()"
   ]
  },
  {
   "cell_type": "code",
   "execution_count": 7,
   "metadata": {},
   "outputs": [],
   "source": [
    "least_profitable_stores = [33, 44, 5, 36, 38]"
   ]
  },
  {
   "cell_type": "code",
   "execution_count": 8,
   "metadata": {},
   "outputs": [],
   "source": [
    "def compactor():\n",
    "    df_compact = df[[\"sale_date\", \"store\", \"dept\", \"weekly_sales\"]]\n",
    "    df_compact['year'] = pd.DatetimeIndex(df_compact['sale_date']).year\n",
    "    df_compact.sale_date = pd.to_datetime(df_compact.sale_date)\n",
    "    return df_compact.groupby(['year', 'store'])['weekly_sales'].sum()"
   ]
  },
  {
   "cell_type": "code",
   "execution_count": 9,
   "metadata": {},
   "outputs": [],
   "source": [
    "df_ordered = compactor()"
   ]
  },
  {
   "cell_type": "code",
   "execution_count": 10,
   "metadata": {},
   "outputs": [
    {
     "output_type": "execute_result",
     "data": {
      "text/plain": [
       "year  store\n",
       "2010  1        9.030804e+07\n",
       "      2        1.185761e+08\n",
       "      3        2.314862e+07\n",
       "      4        1.206023e+08\n",
       "      5        1.841192e+07\n",
       "Name: weekly_sales, dtype: float64"
      ]
     },
     "metadata": {},
     "execution_count": 10
    }
   ],
   "source": [
    "df_ordered.head()"
   ]
  },
  {
   "cell_type": "code",
   "execution_count": 15,
   "metadata": {},
   "outputs": [
    {
     "output_type": "execute_result",
     "data": {
      "text/plain": [
       "     index  year  store  weekly_sales\n",
       "0        0  2010      1  9.030804e+07\n",
       "1        1  2010      2  1.185761e+08\n",
       "2        2  2010      3  2.314862e+07\n",
       "3        3  2010      4  1.206023e+08\n",
       "4        4  2010      5  1.841192e+07\n",
       "..     ...   ...    ...           ...\n",
       "130    130  2012     41  8.038641e+07\n",
       "131    131  2012     42  3.495281e+07\n",
       "132    132  2012     43  3.853476e+07\n",
       "133    133  2012     44  2.036500e+07\n",
       "134    134  2012     45  4.671809e+07\n",
       "\n",
       "[135 rows x 4 columns]"
      ],
      "text/html": "<div>\n<style scoped>\n    .dataframe tbody tr th:only-of-type {\n        vertical-align: middle;\n    }\n\n    .dataframe tbody tr th {\n        vertical-align: top;\n    }\n\n    .dataframe thead th {\n        text-align: right;\n    }\n</style>\n<table border=\"1\" class=\"dataframe\">\n  <thead>\n    <tr style=\"text-align: right;\">\n      <th></th>\n      <th>index</th>\n      <th>year</th>\n      <th>store</th>\n      <th>weekly_sales</th>\n    </tr>\n  </thead>\n  <tbody>\n    <tr>\n      <th>0</th>\n      <td>0</td>\n      <td>2010</td>\n      <td>1</td>\n      <td>9.030804e+07</td>\n    </tr>\n    <tr>\n      <th>1</th>\n      <td>1</td>\n      <td>2010</td>\n      <td>2</td>\n      <td>1.185761e+08</td>\n    </tr>\n    <tr>\n      <th>2</th>\n      <td>2</td>\n      <td>2010</td>\n      <td>3</td>\n      <td>2.314862e+07</td>\n    </tr>\n    <tr>\n      <th>3</th>\n      <td>3</td>\n      <td>2010</td>\n      <td>4</td>\n      <td>1.206023e+08</td>\n    </tr>\n    <tr>\n      <th>4</th>\n      <td>4</td>\n      <td>2010</td>\n      <td>5</td>\n      <td>1.841192e+07</td>\n    </tr>\n    <tr>\n      <th>...</th>\n      <td>...</td>\n      <td>...</td>\n      <td>...</td>\n      <td>...</td>\n    </tr>\n    <tr>\n      <th>130</th>\n      <td>130</td>\n      <td>2012</td>\n      <td>41</td>\n      <td>8.038641e+07</td>\n    </tr>\n    <tr>\n      <th>131</th>\n      <td>131</td>\n      <td>2012</td>\n      <td>42</td>\n      <td>3.495281e+07</td>\n    </tr>\n    <tr>\n      <th>132</th>\n      <td>132</td>\n      <td>2012</td>\n      <td>43</td>\n      <td>3.853476e+07</td>\n    </tr>\n    <tr>\n      <th>133</th>\n      <td>133</td>\n      <td>2012</td>\n      <td>44</td>\n      <td>2.036500e+07</td>\n    </tr>\n    <tr>\n      <th>134</th>\n      <td>134</td>\n      <td>2012</td>\n      <td>45</td>\n      <td>4.671809e+07</td>\n    </tr>\n  </tbody>\n</table>\n<p>135 rows × 4 columns</p>\n</div>"
     },
     "metadata": {},
     "execution_count": 15
    }
   ],
   "source": []
  },
  {
   "cell_type": "code",
   "execution_count": 11,
   "metadata": {},
   "outputs": [],
   "source": [
    "def yearly_sales_by_store(data):\n",
    "    yearly_data = data.copy()\n",
    "    df_ordered_updated = pd.DataFrame(yearly_data)\n",
    "\n",
    "    df_indexed = df_ordered_updated\n",
    "    df_indexed.reset_index(inplace=True)\n",
    "    df_indexed = df_indexed.rename(columns={\"weekly_sales\": \"total_sales\"})\n",
    "    return df_indexed"
   ]
  },
  {
   "cell_type": "code",
   "execution_count": 12,
   "metadata": {},
   "outputs": [
    {
     "output_type": "execute_result",
     "data": {
      "text/plain": [
       "    year  store   total_sales\n",
       "0   2010      1  9.030804e+07\n",
       "1   2010      2  1.185761e+08\n",
       "2   2010      3  2.314862e+07\n",
       "3   2010      4  1.206023e+08\n",
       "4   2010      5  1.841192e+07\n",
       "5   2010      6  9.581719e+07\n",
       "6   2010      7  3.241743e+07\n",
       "7   2010      8  5.359962e+07\n",
       "8   2010      9  3.123944e+07\n",
       "9   2010     10  1.192924e+08\n",
       "10  2010     11  8.123687e+07\n",
       "11  2010     12  6.061693e+07\n",
       "12  2010     13  1.195831e+08\n",
       "13  2010     14  1.305513e+08\n",
       "14  2010     15  4.039422e+07\n",
       "15  2010     16  3.139272e+07\n",
       "16  2010     17  5.117242e+07\n",
       "17  2010     18  6.974483e+07\n",
       "18  2010     19  9.009060e+07\n",
       "19  2010     20  1.256658e+08\n",
       "20  2010     21  4.822209e+07\n",
       "21  2010     22  6.363898e+07\n",
       "22  2010     23  8.535402e+07\n",
       "23  2010     24  8.236928e+07\n",
       "24  2010     25  4.444361e+07"
      ],
      "text/html": "<div>\n<style scoped>\n    .dataframe tbody tr th:only-of-type {\n        vertical-align: middle;\n    }\n\n    .dataframe tbody tr th {\n        vertical-align: top;\n    }\n\n    .dataframe thead th {\n        text-align: right;\n    }\n</style>\n<table border=\"1\" class=\"dataframe\">\n  <thead>\n    <tr style=\"text-align: right;\">\n      <th></th>\n      <th>year</th>\n      <th>store</th>\n      <th>total_sales</th>\n    </tr>\n  </thead>\n  <tbody>\n    <tr>\n      <th>0</th>\n      <td>2010</td>\n      <td>1</td>\n      <td>9.030804e+07</td>\n    </tr>\n    <tr>\n      <th>1</th>\n      <td>2010</td>\n      <td>2</td>\n      <td>1.185761e+08</td>\n    </tr>\n    <tr>\n      <th>2</th>\n      <td>2010</td>\n      <td>3</td>\n      <td>2.314862e+07</td>\n    </tr>\n    <tr>\n      <th>3</th>\n      <td>2010</td>\n      <td>4</td>\n      <td>1.206023e+08</td>\n    </tr>\n    <tr>\n      <th>4</th>\n      <td>2010</td>\n      <td>5</td>\n      <td>1.841192e+07</td>\n    </tr>\n    <tr>\n      <th>5</th>\n      <td>2010</td>\n      <td>6</td>\n      <td>9.581719e+07</td>\n    </tr>\n    <tr>\n      <th>6</th>\n      <td>2010</td>\n      <td>7</td>\n      <td>3.241743e+07</td>\n    </tr>\n    <tr>\n      <th>7</th>\n      <td>2010</td>\n      <td>8</td>\n      <td>5.359962e+07</td>\n    </tr>\n    <tr>\n      <th>8</th>\n      <td>2010</td>\n      <td>9</td>\n      <td>3.123944e+07</td>\n    </tr>\n    <tr>\n      <th>9</th>\n      <td>2010</td>\n      <td>10</td>\n      <td>1.192924e+08</td>\n    </tr>\n    <tr>\n      <th>10</th>\n      <td>2010</td>\n      <td>11</td>\n      <td>8.123687e+07</td>\n    </tr>\n    <tr>\n      <th>11</th>\n      <td>2010</td>\n      <td>12</td>\n      <td>6.061693e+07</td>\n    </tr>\n    <tr>\n      <th>12</th>\n      <td>2010</td>\n      <td>13</td>\n      <td>1.195831e+08</td>\n    </tr>\n    <tr>\n      <th>13</th>\n      <td>2010</td>\n      <td>14</td>\n      <td>1.305513e+08</td>\n    </tr>\n    <tr>\n      <th>14</th>\n      <td>2010</td>\n      <td>15</td>\n      <td>4.039422e+07</td>\n    </tr>\n    <tr>\n      <th>15</th>\n      <td>2010</td>\n      <td>16</td>\n      <td>3.139272e+07</td>\n    </tr>\n    <tr>\n      <th>16</th>\n      <td>2010</td>\n      <td>17</td>\n      <td>5.117242e+07</td>\n    </tr>\n    <tr>\n      <th>17</th>\n      <td>2010</td>\n      <td>18</td>\n      <td>6.974483e+07</td>\n    </tr>\n    <tr>\n      <th>18</th>\n      <td>2010</td>\n      <td>19</td>\n      <td>9.009060e+07</td>\n    </tr>\n    <tr>\n      <th>19</th>\n      <td>2010</td>\n      <td>20</td>\n      <td>1.256658e+08</td>\n    </tr>\n    <tr>\n      <th>20</th>\n      <td>2010</td>\n      <td>21</td>\n      <td>4.822209e+07</td>\n    </tr>\n    <tr>\n      <th>21</th>\n      <td>2010</td>\n      <td>22</td>\n      <td>6.363898e+07</td>\n    </tr>\n    <tr>\n      <th>22</th>\n      <td>2010</td>\n      <td>23</td>\n      <td>8.535402e+07</td>\n    </tr>\n    <tr>\n      <th>23</th>\n      <td>2010</td>\n      <td>24</td>\n      <td>8.236928e+07</td>\n    </tr>\n    <tr>\n      <th>24</th>\n      <td>2010</td>\n      <td>25</td>\n      <td>4.444361e+07</td>\n    </tr>\n  </tbody>\n</table>\n</div>"
     },
     "metadata": {},
     "execution_count": 12
    }
   ],
   "source": [
    "yearly_df = yearly_sales_by_store(df_ordered)\n",
    "yearly_df.head(25)"
   ]
  },
  {
   "cell_type": "code",
   "execution_count": 13,
   "metadata": {},
   "outputs": [
    {
     "output_type": "execute_result",
     "data": {
      "text/plain": [
       "    year  store  total_sales\n",
       "0   2010      5  18411921.94\n",
       "1   2010     33  15555118.10\n",
       "2   2010     36  26153488.44\n",
       "3   2010     38  20208343.30\n",
       "4   2010     44  16958495.82\n",
       "5   2011      5  21976526.66\n",
       "6   2011     33  17319178.54\n",
       "7   2011     36  25267401.82\n",
       "8   2011     38  26094246.48\n",
       "9   2011     44  20851019.18\n",
       "10  2012      5  20083194.48\n",
       "11  2012     33  16127372.54\n",
       "12  2012     36  19076297.40\n",
       "13  2012     38  26152566.66\n",
       "14  2012     44  20364996.00"
      ],
      "text/html": "<div>\n<style scoped>\n    .dataframe tbody tr th:only-of-type {\n        vertical-align: middle;\n    }\n\n    .dataframe tbody tr th {\n        vertical-align: top;\n    }\n\n    .dataframe thead th {\n        text-align: right;\n    }\n</style>\n<table border=\"1\" class=\"dataframe\">\n  <thead>\n    <tr style=\"text-align: right;\">\n      <th></th>\n      <th>year</th>\n      <th>store</th>\n      <th>total_sales</th>\n    </tr>\n  </thead>\n  <tbody>\n    <tr>\n      <th>0</th>\n      <td>2010</td>\n      <td>5</td>\n      <td>18411921.94</td>\n    </tr>\n    <tr>\n      <th>1</th>\n      <td>2010</td>\n      <td>33</td>\n      <td>15555118.10</td>\n    </tr>\n    <tr>\n      <th>2</th>\n      <td>2010</td>\n      <td>36</td>\n      <td>26153488.44</td>\n    </tr>\n    <tr>\n      <th>3</th>\n      <td>2010</td>\n      <td>38</td>\n      <td>20208343.30</td>\n    </tr>\n    <tr>\n      <th>4</th>\n      <td>2010</td>\n      <td>44</td>\n      <td>16958495.82</td>\n    </tr>\n    <tr>\n      <th>5</th>\n      <td>2011</td>\n      <td>5</td>\n      <td>21976526.66</td>\n    </tr>\n    <tr>\n      <th>6</th>\n      <td>2011</td>\n      <td>33</td>\n      <td>17319178.54</td>\n    </tr>\n    <tr>\n      <th>7</th>\n      <td>2011</td>\n      <td>36</td>\n      <td>25267401.82</td>\n    </tr>\n    <tr>\n      <th>8</th>\n      <td>2011</td>\n      <td>38</td>\n      <td>26094246.48</td>\n    </tr>\n    <tr>\n      <th>9</th>\n      <td>2011</td>\n      <td>44</td>\n      <td>20851019.18</td>\n    </tr>\n    <tr>\n      <th>10</th>\n      <td>2012</td>\n      <td>5</td>\n      <td>20083194.48</td>\n    </tr>\n    <tr>\n      <th>11</th>\n      <td>2012</td>\n      <td>33</td>\n      <td>16127372.54</td>\n    </tr>\n    <tr>\n      <th>12</th>\n      <td>2012</td>\n      <td>36</td>\n      <td>19076297.40</td>\n    </tr>\n    <tr>\n      <th>13</th>\n      <td>2012</td>\n      <td>38</td>\n      <td>26152566.66</td>\n    </tr>\n    <tr>\n      <th>14</th>\n      <td>2012</td>\n      <td>44</td>\n      <td>20364996.00</td>\n    </tr>\n  </tbody>\n</table>\n</div>"
     },
     "metadata": {},
     "execution_count": 13
    }
   ],
   "source": [
    "least_profitable_df = yearly_df[yearly_df.store.isin(least_profitable_stores)]\n",
    "least_profitable_df = least_profitable_df.sort_values(by=['year'], ascending=True)\n",
    "least_profitable_df = least_profitable_df.reset_index(drop=True)\n",
    "least_profitable_df"
   ]
  },
  {
   "cell_type": "code",
   "execution_count": 14,
   "metadata": {},
   "outputs": [
    {
     "output_type": "execute_result",
     "data": {
      "text/plain": [
       "    year  store   total_sales\n",
       "0   2010      2  1.185761e+08\n",
       "1   2010      4  1.206023e+08\n",
       "2   2010     13  1.195831e+08\n",
       "3   2010     14  1.305513e+08\n",
       "4   2010     20  1.256658e+08\n",
       "5   2011      2  1.318138e+08\n",
       "6   2011      4  1.498306e+08\n",
       "7   2011     13  1.413729e+08\n",
       "8   2011     14  1.425144e+08\n",
       "9   2011     20  1.460095e+08\n",
       "10  2012      2  1.156457e+08\n",
       "11  2012      4  1.321873e+08\n",
       "12  2012     13  1.232879e+08\n",
       "13  2012     14  1.090630e+08\n",
       "14  2012     20  1.260199e+08"
      ],
      "text/html": "<div>\n<style scoped>\n    .dataframe tbody tr th:only-of-type {\n        vertical-align: middle;\n    }\n\n    .dataframe tbody tr th {\n        vertical-align: top;\n    }\n\n    .dataframe thead th {\n        text-align: right;\n    }\n</style>\n<table border=\"1\" class=\"dataframe\">\n  <thead>\n    <tr style=\"text-align: right;\">\n      <th></th>\n      <th>year</th>\n      <th>store</th>\n      <th>total_sales</th>\n    </tr>\n  </thead>\n  <tbody>\n    <tr>\n      <th>0</th>\n      <td>2010</td>\n      <td>2</td>\n      <td>1.185761e+08</td>\n    </tr>\n    <tr>\n      <th>1</th>\n      <td>2010</td>\n      <td>4</td>\n      <td>1.206023e+08</td>\n    </tr>\n    <tr>\n      <th>2</th>\n      <td>2010</td>\n      <td>13</td>\n      <td>1.195831e+08</td>\n    </tr>\n    <tr>\n      <th>3</th>\n      <td>2010</td>\n      <td>14</td>\n      <td>1.305513e+08</td>\n    </tr>\n    <tr>\n      <th>4</th>\n      <td>2010</td>\n      <td>20</td>\n      <td>1.256658e+08</td>\n    </tr>\n    <tr>\n      <th>5</th>\n      <td>2011</td>\n      <td>2</td>\n      <td>1.318138e+08</td>\n    </tr>\n    <tr>\n      <th>6</th>\n      <td>2011</td>\n      <td>4</td>\n      <td>1.498306e+08</td>\n    </tr>\n    <tr>\n      <th>7</th>\n      <td>2011</td>\n      <td>13</td>\n      <td>1.413729e+08</td>\n    </tr>\n    <tr>\n      <th>8</th>\n      <td>2011</td>\n      <td>14</td>\n      <td>1.425144e+08</td>\n    </tr>\n    <tr>\n      <th>9</th>\n      <td>2011</td>\n      <td>20</td>\n      <td>1.460095e+08</td>\n    </tr>\n    <tr>\n      <th>10</th>\n      <td>2012</td>\n      <td>2</td>\n      <td>1.156457e+08</td>\n    </tr>\n    <tr>\n      <th>11</th>\n      <td>2012</td>\n      <td>4</td>\n      <td>1.321873e+08</td>\n    </tr>\n    <tr>\n      <th>12</th>\n      <td>2012</td>\n      <td>13</td>\n      <td>1.232879e+08</td>\n    </tr>\n    <tr>\n      <th>13</th>\n      <td>2012</td>\n      <td>14</td>\n      <td>1.090630e+08</td>\n    </tr>\n    <tr>\n      <th>14</th>\n      <td>2012</td>\n      <td>20</td>\n      <td>1.260199e+08</td>\n    </tr>\n  </tbody>\n</table>\n</div>"
     },
     "metadata": {},
     "execution_count": 14
    }
   ],
   "source": [
    "most_profitable_df = yearly_df[yearly_df.store.isin(most_profitable_stores)]\n",
    "most_profitable_df = most_profitable_df.sort_values(by=['year'], ascending=True)\n",
    "most_profitable_df = most_profitable_df.reset_index(drop=True)\n",
    "most_profitable_df"
   ]
  },
  {
   "cell_type": "code",
   "execution_count": null,
   "metadata": {},
   "outputs": [],
   "source": []
  }
 ],
 "metadata": {
  "kernelspec": {
   "name": "Python 3.6.10 64-bit ('PythonData': conda)",
   "display_name": "Python 3.6.10 64-bit ('PythonData': conda)",
   "metadata": {
    "interpreter": {
     "hash": "921c7f60ceb4bcd720b00a032195699cec91e1622d2322e49b9dab39de5e919d"
    }
   }
  },
  "language_info": {
   "codemirror_mode": {
    "name": "ipython",
    "version": 3
   },
   "file_extension": ".py",
   "mimetype": "text/x-python",
   "name": "python",
   "nbconvert_exporter": "python",
   "pygments_lexer": "ipython3",
   "version": "3.6.10-final"
  }
 },
 "nbformat": 4,
 "nbformat_minor": 2
}