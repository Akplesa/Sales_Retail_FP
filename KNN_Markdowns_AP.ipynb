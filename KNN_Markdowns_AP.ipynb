{
 "cells": [
  {
   "cell_type": "code",
   "execution_count": 69,
   "metadata": {},
   "outputs": [],
   "source": [
    "import pandas as pd\n",
    "import numpy as np\n",
    "import matplotlib.pyplot as plt\n",
    "from sklearn.neighbors import KNeighborsClassifier\n",
    "from sklearn.model_selection import train_test_split\n",
    "from sklearn.preprocessing import StandardScaler\n",
    "from sklearn.metrics import confusion_matrix\n",
    "from sklearn.metrics import f1_score\n",
    "from sklearn.metrics import accuracy_score\n",
    "import math"
   ]
  },
  {
   "cell_type": "markdown",
   "metadata": {},
   "source": [
    "The goal of this KNN Algorithm is to predict whether stores have more markdowns and sales on holidays v.s not on holidays"
   ]
  },
  {
   "cell_type": "code",
   "execution_count": 70,
   "metadata": {},
   "outputs": [
    {
     "data": {
      "text/html": [
       "<div>\n",
       "<style scoped>\n",
       "    .dataframe tbody tr th:only-of-type {\n",
       "        vertical-align: middle;\n",
       "    }\n",
       "\n",
       "    .dataframe tbody tr th {\n",
       "        vertical-align: top;\n",
       "    }\n",
       "\n",
       "    .dataframe thead th {\n",
       "        text-align: right;\n",
       "    }\n",
       "</style>\n",
       "<table border=\"1\" class=\"dataframe\">\n",
       "  <thead>\n",
       "    <tr style=\"text-align: right;\">\n",
       "      <th></th>\n",
       "      <th>sale_date</th>\n",
       "      <th>store</th>\n",
       "      <th>temperature</th>\n",
       "      <th>fuel_price</th>\n",
       "      <th>markdown1</th>\n",
       "      <th>markdown2</th>\n",
       "      <th>markdown3</th>\n",
       "      <th>markdown4</th>\n",
       "      <th>markdown5</th>\n",
       "      <th>unemployment</th>\n",
       "      <th>isholiday</th>\n",
       "      <th>dept</th>\n",
       "      <th>weekly_sales</th>\n",
       "    </tr>\n",
       "  </thead>\n",
       "  <tbody>\n",
       "    <tr>\n",
       "      <th>0</th>\n",
       "      <td>2012-09-28</td>\n",
       "      <td>16</td>\n",
       "      <td>51.40</td>\n",
       "      <td>3.789</td>\n",
       "      <td>2130.57</td>\n",
       "      <td>3.82</td>\n",
       "      <td>NaN</td>\n",
       "      <td>583.90</td>\n",
       "      <td>1409.43</td>\n",
       "      <td>6.061</td>\n",
       "      <td>False</td>\n",
       "      <td>27</td>\n",
       "      <td>836.65</td>\n",
       "    </tr>\n",
       "    <tr>\n",
       "      <th>1</th>\n",
       "      <td>2012-10-19</td>\n",
       "      <td>16</td>\n",
       "      <td>40.59</td>\n",
       "      <td>3.750</td>\n",
       "      <td>1278.03</td>\n",
       "      <td>NaN</td>\n",
       "      <td>1.16</td>\n",
       "      <td>16.38</td>\n",
       "      <td>1395.48</td>\n",
       "      <td>5.847</td>\n",
       "      <td>False</td>\n",
       "      <td>27</td>\n",
       "      <td>852.81</td>\n",
       "    </tr>\n",
       "    <tr>\n",
       "      <th>2</th>\n",
       "      <td>2012-10-26</td>\n",
       "      <td>16</td>\n",
       "      <td>40.99</td>\n",
       "      <td>3.686</td>\n",
       "      <td>2285.52</td>\n",
       "      <td>20.48</td>\n",
       "      <td>NaN</td>\n",
       "      <td>201.97</td>\n",
       "      <td>1237.41</td>\n",
       "      <td>5.847</td>\n",
       "      <td>False</td>\n",
       "      <td>27</td>\n",
       "      <td>815.95</td>\n",
       "    </tr>\n",
       "    <tr>\n",
       "      <th>3</th>\n",
       "      <td>2010-02-19</td>\n",
       "      <td>16</td>\n",
       "      <td>21.13</td>\n",
       "      <td>2.550</td>\n",
       "      <td>NaN</td>\n",
       "      <td>NaN</td>\n",
       "      <td>NaN</td>\n",
       "      <td>NaN</td>\n",
       "      <td>NaN</td>\n",
       "      <td>7.039</td>\n",
       "      <td>False</td>\n",
       "      <td>28</td>\n",
       "      <td>266.00</td>\n",
       "    </tr>\n",
       "    <tr>\n",
       "      <th>4</th>\n",
       "      <td>2010-02-26</td>\n",
       "      <td>16</td>\n",
       "      <td>18.12</td>\n",
       "      <td>2.586</td>\n",
       "      <td>NaN</td>\n",
       "      <td>NaN</td>\n",
       "      <td>NaN</td>\n",
       "      <td>NaN</td>\n",
       "      <td>NaN</td>\n",
       "      <td>7.039</td>\n",
       "      <td>False</td>\n",
       "      <td>28</td>\n",
       "      <td>255.50</td>\n",
       "    </tr>\n",
       "    <tr>\n",
       "      <th>...</th>\n",
       "      <td>...</td>\n",
       "      <td>...</td>\n",
       "      <td>...</td>\n",
       "      <td>...</td>\n",
       "      <td>...</td>\n",
       "      <td>...</td>\n",
       "      <td>...</td>\n",
       "      <td>...</td>\n",
       "      <td>...</td>\n",
       "      <td>...</td>\n",
       "      <td>...</td>\n",
       "      <td>...</td>\n",
       "      <td>...</td>\n",
       "    </tr>\n",
       "    <tr>\n",
       "      <th>565963</th>\n",
       "      <td>2012-08-17</td>\n",
       "      <td>16</td>\n",
       "      <td>62.07</td>\n",
       "      <td>3.545</td>\n",
       "      <td>408.10</td>\n",
       "      <td>NaN</td>\n",
       "      <td>1.10</td>\n",
       "      <td>870.38</td>\n",
       "      <td>604.80</td>\n",
       "      <td>6.061</td>\n",
       "      <td>False</td>\n",
       "      <td>27</td>\n",
       "      <td>752.11</td>\n",
       "    </tr>\n",
       "    <tr>\n",
       "      <th>565964</th>\n",
       "      <td>2012-08-24</td>\n",
       "      <td>16</td>\n",
       "      <td>61.44</td>\n",
       "      <td>3.558</td>\n",
       "      <td>1556.47</td>\n",
       "      <td>16.00</td>\n",
       "      <td>3.34</td>\n",
       "      <td>869.05</td>\n",
       "      <td>1691.12</td>\n",
       "      <td>6.061</td>\n",
       "      <td>False</td>\n",
       "      <td>27</td>\n",
       "      <td>703.94</td>\n",
       "    </tr>\n",
       "    <tr>\n",
       "      <th>565965</th>\n",
       "      <td>2012-08-31</td>\n",
       "      <td>16</td>\n",
       "      <td>64.19</td>\n",
       "      <td>3.556</td>\n",
       "      <td>8702.40</td>\n",
       "      <td>NaN</td>\n",
       "      <td>35.78</td>\n",
       "      <td>3576.08</td>\n",
       "      <td>4493.67</td>\n",
       "      <td>6.061</td>\n",
       "      <td>False</td>\n",
       "      <td>27</td>\n",
       "      <td>614.79</td>\n",
       "    </tr>\n",
       "    <tr>\n",
       "      <th>565966</th>\n",
       "      <td>2012-09-14</td>\n",
       "      <td>16</td>\n",
       "      <td>56.69</td>\n",
       "      <td>3.659</td>\n",
       "      <td>5323.84</td>\n",
       "      <td>NaN</td>\n",
       "      <td>9.30</td>\n",
       "      <td>1307.03</td>\n",
       "      <td>4474.84</td>\n",
       "      <td>6.061</td>\n",
       "      <td>False</td>\n",
       "      <td>27</td>\n",
       "      <td>898.63</td>\n",
       "    </tr>\n",
       "    <tr>\n",
       "      <th>565967</th>\n",
       "      <td>2012-09-21</td>\n",
       "      <td>16</td>\n",
       "      <td>56.48</td>\n",
       "      <td>3.765</td>\n",
       "      <td>3913.62</td>\n",
       "      <td>1.91</td>\n",
       "      <td>NaN</td>\n",
       "      <td>143.35</td>\n",
       "      <td>5661.00</td>\n",
       "      <td>6.061</td>\n",
       "      <td>False</td>\n",
       "      <td>27</td>\n",
       "      <td>644.04</td>\n",
       "    </tr>\n",
       "  </tbody>\n",
       "</table>\n",
       "<p>565968 rows × 13 columns</p>\n",
       "</div>"
      ],
      "text/plain": [
       "         sale_date  store  temperature  fuel_price  markdown1  markdown2  \\\n",
       "0       2012-09-28     16        51.40       3.789    2130.57       3.82   \n",
       "1       2012-10-19     16        40.59       3.750    1278.03        NaN   \n",
       "2       2012-10-26     16        40.99       3.686    2285.52      20.48   \n",
       "3       2010-02-19     16        21.13       2.550        NaN        NaN   \n",
       "4       2010-02-26     16        18.12       2.586        NaN        NaN   \n",
       "...            ...    ...          ...         ...        ...        ...   \n",
       "565963  2012-08-17     16        62.07       3.545     408.10        NaN   \n",
       "565964  2012-08-24     16        61.44       3.558    1556.47      16.00   \n",
       "565965  2012-08-31     16        64.19       3.556    8702.40        NaN   \n",
       "565966  2012-09-14     16        56.69       3.659    5323.84        NaN   \n",
       "565967  2012-09-21     16        56.48       3.765    3913.62       1.91   \n",
       "\n",
       "        markdown3  markdown4  markdown5  unemployment  isholiday  dept  \\\n",
       "0             NaN     583.90    1409.43         6.061      False    27   \n",
       "1            1.16      16.38    1395.48         5.847      False    27   \n",
       "2             NaN     201.97    1237.41         5.847      False    27   \n",
       "3             NaN        NaN        NaN         7.039      False    28   \n",
       "4             NaN        NaN        NaN         7.039      False    28   \n",
       "...           ...        ...        ...           ...        ...   ...   \n",
       "565963       1.10     870.38     604.80         6.061      False    27   \n",
       "565964       3.34     869.05    1691.12         6.061      False    27   \n",
       "565965      35.78    3576.08    4493.67         6.061      False    27   \n",
       "565966       9.30    1307.03    4474.84         6.061      False    27   \n",
       "565967        NaN     143.35    5661.00         6.061      False    27   \n",
       "\n",
       "        weekly_sales  \n",
       "0             836.65  \n",
       "1             852.81  \n",
       "2             815.95  \n",
       "3             266.00  \n",
       "4             255.50  \n",
       "...              ...  \n",
       "565963        752.11  \n",
       "565964        703.94  \n",
       "565965        614.79  \n",
       "565966        898.63  \n",
       "565967        644.04  \n",
       "\n",
       "[565968 rows x 13 columns]"
      ]
     },
     "execution_count": 70,
     "metadata": {},
     "output_type": "execute_result"
    }
   ],
   "source": [
    "df = pd.read_csv('Retail_Sales_Data/Official_Merged_SF.csv')\n",
    "df"
   ]
  },
  {
   "cell_type": "code",
   "execution_count": 71,
   "metadata": {},
   "outputs": [],
   "source": [
    "# Dropping the null columns where all values are null\n",
    "df = df.dropna(axis='columns', how='all')\n",
    "# Dropping the null rows\n",
    "df = df.dropna()\n",
    "df.head()\n",
    "#Getting rid of space on FALSE_POSITIVES\n",
    "df.replace(to_replace =\"FALSE POSITIVE\", \n",
    "                 value =\"FALSE_POSITIVE\",\n",
    "          inplace=True)"
   ]
  },
  {
   "cell_type": "code",
   "execution_count": 72,
   "metadata": {},
   "outputs": [],
   "source": [
    "#drop other unnecesary columns \n",
    "df.drop(inplace= True,columns=[ 'fuel_price','unemployment','dept'])"
   ]
  },
  {
   "cell_type": "code",
   "execution_count": 42,
   "metadata": {},
   "outputs": [
    {
     "data": {
      "text/html": [
       "<div>\n",
       "<style scoped>\n",
       "    .dataframe tbody tr th:only-of-type {\n",
       "        vertical-align: middle;\n",
       "    }\n",
       "\n",
       "    .dataframe tbody tr th {\n",
       "        vertical-align: top;\n",
       "    }\n",
       "\n",
       "    .dataframe thead th {\n",
       "        text-align: right;\n",
       "    }\n",
       "</style>\n",
       "<table border=\"1\" class=\"dataframe\">\n",
       "  <thead>\n",
       "    <tr style=\"text-align: right;\">\n",
       "      <th></th>\n",
       "      <th>sale_date</th>\n",
       "      <th>store</th>\n",
       "      <th>temperature</th>\n",
       "      <th>markdown1</th>\n",
       "      <th>markdown2</th>\n",
       "      <th>markdown3</th>\n",
       "      <th>markdown4</th>\n",
       "      <th>markdown5</th>\n",
       "      <th>isholiday</th>\n",
       "      <th>weekly_sales</th>\n",
       "    </tr>\n",
       "  </thead>\n",
       "  <tbody>\n",
       "    <tr>\n",
       "      <th>62</th>\n",
       "      <td>2011-11-11</td>\n",
       "      <td>16</td>\n",
       "      <td>29.56</td>\n",
       "      <td>5042.40</td>\n",
       "      <td>2193.04</td>\n",
       "      <td>200.11</td>\n",
       "      <td>3309.98</td>\n",
       "      <td>2743.18</td>\n",
       "      <td>False</td>\n",
       "      <td>468.42</td>\n",
       "    </tr>\n",
       "    <tr>\n",
       "      <th>63</th>\n",
       "      <td>2011-11-18</td>\n",
       "      <td>16</td>\n",
       "      <td>31.73</td>\n",
       "      <td>2089.46</td>\n",
       "      <td>154.21</td>\n",
       "      <td>3.55</td>\n",
       "      <td>830.60</td>\n",
       "      <td>4425.07</td>\n",
       "      <td>False</td>\n",
       "      <td>279.22</td>\n",
       "    </tr>\n",
       "    <tr>\n",
       "      <th>64</th>\n",
       "      <td>2011-11-25</td>\n",
       "      <td>16</td>\n",
       "      <td>31.39</td>\n",
       "      <td>90.28</td>\n",
       "      <td>126.47</td>\n",
       "      <td>34754.69</td>\n",
       "      <td>24.64</td>\n",
       "      <td>1560.32</td>\n",
       "      <td>True</td>\n",
       "      <td>349.09</td>\n",
       "    </tr>\n",
       "    <tr>\n",
       "      <th>66</th>\n",
       "      <td>2011-12-23</td>\n",
       "      <td>16</td>\n",
       "      <td>20.79</td>\n",
       "      <td>485.00</td>\n",
       "      <td>0.18</td>\n",
       "      <td>475.60</td>\n",
       "      <td>16.20</td>\n",
       "      <td>960.85</td>\n",
       "      <td>False</td>\n",
       "      <td>575.78</td>\n",
       "    </tr>\n",
       "    <tr>\n",
       "      <th>67</th>\n",
       "      <td>2011-12-30</td>\n",
       "      <td>16</td>\n",
       "      <td>23.91</td>\n",
       "      <td>921.67</td>\n",
       "      <td>11778.68</td>\n",
       "      <td>101.87</td>\n",
       "      <td>272.51</td>\n",
       "      <td>1673.25</td>\n",
       "      <td>True</td>\n",
       "      <td>685.46</td>\n",
       "    </tr>\n",
       "    <tr>\n",
       "      <th>...</th>\n",
       "      <td>...</td>\n",
       "      <td>...</td>\n",
       "      <td>...</td>\n",
       "      <td>...</td>\n",
       "      <td>...</td>\n",
       "      <td>...</td>\n",
       "      <td>...</td>\n",
       "      <td>...</td>\n",
       "      <td>...</td>\n",
       "      <td>...</td>\n",
       "    </tr>\n",
       "    <tr>\n",
       "      <th>565957</th>\n",
       "      <td>2012-06-15</td>\n",
       "      <td>16</td>\n",
       "      <td>65.36</td>\n",
       "      <td>7027.33</td>\n",
       "      <td>141.80</td>\n",
       "      <td>125.91</td>\n",
       "      <td>642.76</td>\n",
       "      <td>1980.96</td>\n",
       "      <td>False</td>\n",
       "      <td>909.28</td>\n",
       "    </tr>\n",
       "    <tr>\n",
       "      <th>565958</th>\n",
       "      <td>2012-06-22</td>\n",
       "      <td>16</td>\n",
       "      <td>70.41</td>\n",
       "      <td>1291.33</td>\n",
       "      <td>201.00</td>\n",
       "      <td>0.27</td>\n",
       "      <td>696.47</td>\n",
       "      <td>1682.13</td>\n",
       "      <td>False</td>\n",
       "      <td>929.01</td>\n",
       "    </tr>\n",
       "    <tr>\n",
       "      <th>565960</th>\n",
       "      <td>2012-07-13</td>\n",
       "      <td>16</td>\n",
       "      <td>70.29</td>\n",
       "      <td>2375.53</td>\n",
       "      <td>17.90</td>\n",
       "      <td>2.07</td>\n",
       "      <td>983.30</td>\n",
       "      <td>1834.23</td>\n",
       "      <td>False</td>\n",
       "      <td>952.86</td>\n",
       "    </tr>\n",
       "    <tr>\n",
       "      <th>565961</th>\n",
       "      <td>2012-07-20</td>\n",
       "      <td>16</td>\n",
       "      <td>68.43</td>\n",
       "      <td>1115.42</td>\n",
       "      <td>105.35</td>\n",
       "      <td>4.69</td>\n",
       "      <td>196.54</td>\n",
       "      <td>948.69</td>\n",
       "      <td>False</td>\n",
       "      <td>799.20</td>\n",
       "    </tr>\n",
       "    <tr>\n",
       "      <th>565964</th>\n",
       "      <td>2012-08-24</td>\n",
       "      <td>16</td>\n",
       "      <td>61.44</td>\n",
       "      <td>1556.47</td>\n",
       "      <td>16.00</td>\n",
       "      <td>3.34</td>\n",
       "      <td>869.05</td>\n",
       "      <td>1691.12</td>\n",
       "      <td>False</td>\n",
       "      <td>703.94</td>\n",
       "    </tr>\n",
       "  </tbody>\n",
       "</table>\n",
       "<p>149916 rows × 10 columns</p>\n",
       "</div>"
      ],
      "text/plain": [
       "         sale_date  store  temperature  markdown1  markdown2  markdown3  \\\n",
       "62      2011-11-11     16        29.56    5042.40    2193.04     200.11   \n",
       "63      2011-11-18     16        31.73    2089.46     154.21       3.55   \n",
       "64      2011-11-25     16        31.39      90.28     126.47   34754.69   \n",
       "66      2011-12-23     16        20.79     485.00       0.18     475.60   \n",
       "67      2011-12-30     16        23.91     921.67   11778.68     101.87   \n",
       "...            ...    ...          ...        ...        ...        ...   \n",
       "565957  2012-06-15     16        65.36    7027.33     141.80     125.91   \n",
       "565958  2012-06-22     16        70.41    1291.33     201.00       0.27   \n",
       "565960  2012-07-13     16        70.29    2375.53      17.90       2.07   \n",
       "565961  2012-07-20     16        68.43    1115.42     105.35       4.69   \n",
       "565964  2012-08-24     16        61.44    1556.47      16.00       3.34   \n",
       "\n",
       "        markdown4  markdown5  isholiday  weekly_sales  \n",
       "62        3309.98    2743.18      False        468.42  \n",
       "63         830.60    4425.07      False        279.22  \n",
       "64          24.64    1560.32       True        349.09  \n",
       "66          16.20     960.85      False        575.78  \n",
       "67         272.51    1673.25       True        685.46  \n",
       "...           ...        ...        ...           ...  \n",
       "565957     642.76    1980.96      False        909.28  \n",
       "565958     696.47    1682.13      False        929.01  \n",
       "565960     983.30    1834.23      False        952.86  \n",
       "565961     196.54     948.69      False        799.20  \n",
       "565964     869.05    1691.12      False        703.94  \n",
       "\n",
       "[149916 rows x 10 columns]"
      ]
     },
     "execution_count": 42,
     "metadata": {},
     "output_type": "execute_result"
    }
   ],
   "source": [
    "#use conditional to locate all rows after November 4th 2011\n",
    "new_df = df.loc[df[\"sale_date\"]> \"2011-11-04\" ]\n",
    "new_df"
   ]
  },
  {
   "cell_type": "code",
   "execution_count": 43,
   "metadata": {},
   "outputs": [],
   "source": [
    "# Getting average of markdowns1-5 DataFrame rows (selected by index labels)\n",
    "new_df['markdownmean']= new_df[[ 'markdown1', 'markdown2', 'markdown3','markdown4','markdown5'] ].mean(axis=1)"
   ]
  },
  {
   "cell_type": "code",
   "execution_count": 88,
   "metadata": {},
   "outputs": [
    {
     "data": {
      "text/html": [
       "<div>\n",
       "<style scoped>\n",
       "    .dataframe tbody tr th:only-of-type {\n",
       "        vertical-align: middle;\n",
       "    }\n",
       "\n",
       "    .dataframe tbody tr th {\n",
       "        vertical-align: top;\n",
       "    }\n",
       "\n",
       "    .dataframe thead th {\n",
       "        text-align: right;\n",
       "    }\n",
       "</style>\n",
       "<table border=\"1\" class=\"dataframe\">\n",
       "  <thead>\n",
       "    <tr style=\"text-align: right;\">\n",
       "      <th></th>\n",
       "      <th>markdownmean</th>\n",
       "      <th>weekly_sales</th>\n",
       "      <th>isholiday</th>\n",
       "      <th>store</th>\n",
       "      <th>temperature</th>\n",
       "    </tr>\n",
       "  </thead>\n",
       "  <tbody>\n",
       "    <tr>\n",
       "      <th>62</th>\n",
       "      <td>2697.742</td>\n",
       "      <td>468.42</td>\n",
       "      <td>False</td>\n",
       "      <td>16</td>\n",
       "      <td>29.56</td>\n",
       "    </tr>\n",
       "    <tr>\n",
       "      <th>63</th>\n",
       "      <td>1500.578</td>\n",
       "      <td>279.22</td>\n",
       "      <td>False</td>\n",
       "      <td>16</td>\n",
       "      <td>31.73</td>\n",
       "    </tr>\n",
       "    <tr>\n",
       "      <th>64</th>\n",
       "      <td>7311.280</td>\n",
       "      <td>349.09</td>\n",
       "      <td>True</td>\n",
       "      <td>16</td>\n",
       "      <td>31.39</td>\n",
       "    </tr>\n",
       "    <tr>\n",
       "      <th>66</th>\n",
       "      <td>387.566</td>\n",
       "      <td>575.78</td>\n",
       "      <td>False</td>\n",
       "      <td>16</td>\n",
       "      <td>20.79</td>\n",
       "    </tr>\n",
       "    <tr>\n",
       "      <th>67</th>\n",
       "      <td>2949.596</td>\n",
       "      <td>685.46</td>\n",
       "      <td>True</td>\n",
       "      <td>16</td>\n",
       "      <td>23.91</td>\n",
       "    </tr>\n",
       "  </tbody>\n",
       "</table>\n",
       "</div>"
      ],
      "text/plain": [
       "    markdownmean  weekly_sales  isholiday  store  temperature\n",
       "62      2697.742        468.42      False     16        29.56\n",
       "63      1500.578        279.22      False     16        31.73\n",
       "64      7311.280        349.09       True     16        31.39\n",
       "66       387.566        575.78      False     16        20.79\n",
       "67      2949.596        685.46       True     16        23.91"
      ]
     },
     "execution_count": 88,
     "metadata": {},
     "output_type": "execute_result"
    }
   ],
   "source": [
    "#Selecting wanted columns\n",
    "freshy= new_df.loc[:,['markdownmean','weekly_sales','isholiday','store','temperature']] \n",
    "freshy.head()"
   ]
  },
  {
   "cell_type": "code",
   "execution_count": 89,
   "metadata": {},
   "outputs": [],
   "source": [
    "y = freshy[\"isholiday\"]\n"
   ]
  },
  {
   "cell_type": "code",
   "execution_count": 90,
   "metadata": {},
   "outputs": [
    {
     "data": {
      "text/plain": [
       "False    139826\n",
       "True      10090\n",
       "Name: isholiday, dtype: int64"
      ]
     },
     "execution_count": 90,
     "metadata": {},
     "output_type": "execute_result"
    }
   ],
   "source": [
    "freshy['isholiday'].value_counts()"
   ]
  },
  {
   "cell_type": "code",
   "execution_count": 91,
   "metadata": {},
   "outputs": [
    {
     "data": {
      "text/html": [
       "<div>\n",
       "<style scoped>\n",
       "    .dataframe tbody tr th:only-of-type {\n",
       "        vertical-align: middle;\n",
       "    }\n",
       "\n",
       "    .dataframe tbody tr th {\n",
       "        vertical-align: top;\n",
       "    }\n",
       "\n",
       "    .dataframe thead th {\n",
       "        text-align: right;\n",
       "    }\n",
       "</style>\n",
       "<table border=\"1\" class=\"dataframe\">\n",
       "  <thead>\n",
       "    <tr style=\"text-align: right;\">\n",
       "      <th></th>\n",
       "      <th>markdownmean</th>\n",
       "      <th>weekly_sales</th>\n",
       "      <th>store</th>\n",
       "      <th>temperature</th>\n",
       "    </tr>\n",
       "  </thead>\n",
       "  <tbody>\n",
       "    <tr>\n",
       "      <th>62</th>\n",
       "      <td>2697.742</td>\n",
       "      <td>468.42</td>\n",
       "      <td>16</td>\n",
       "      <td>29.56</td>\n",
       "    </tr>\n",
       "    <tr>\n",
       "      <th>63</th>\n",
       "      <td>1500.578</td>\n",
       "      <td>279.22</td>\n",
       "      <td>16</td>\n",
       "      <td>31.73</td>\n",
       "    </tr>\n",
       "    <tr>\n",
       "      <th>64</th>\n",
       "      <td>7311.280</td>\n",
       "      <td>349.09</td>\n",
       "      <td>16</td>\n",
       "      <td>31.39</td>\n",
       "    </tr>\n",
       "    <tr>\n",
       "      <th>66</th>\n",
       "      <td>387.566</td>\n",
       "      <td>575.78</td>\n",
       "      <td>16</td>\n",
       "      <td>20.79</td>\n",
       "    </tr>\n",
       "    <tr>\n",
       "      <th>67</th>\n",
       "      <td>2949.596</td>\n",
       "      <td>685.46</td>\n",
       "      <td>16</td>\n",
       "      <td>23.91</td>\n",
       "    </tr>\n",
       "  </tbody>\n",
       "</table>\n",
       "</div>"
      ],
      "text/plain": [
       "    markdownmean  weekly_sales  store  temperature\n",
       "62      2697.742        468.42     16        29.56\n",
       "63      1500.578        279.22     16        31.73\n",
       "64      7311.280        349.09     16        31.39\n",
       "66       387.566        575.78     16        20.79\n",
       "67      2949.596        685.46     16        23.91"
      ]
     },
     "execution_count": 91,
     "metadata": {},
     "output_type": "execute_result"
    }
   ],
   "source": [
    "X = freshy.drop(\"isholiday\", axis=1)\n",
    "X.head()"
   ]
  },
  {
   "cell_type": "code",
   "execution_count": 92,
   "metadata": {},
   "outputs": [],
   "source": [
    "#Splitting data into train and test\n",
    "X_train, X_test, y_train, y_test = train_test_split(X, y, random_state=42) "
   ]
  },
  {
   "cell_type": "code",
   "execution_count": 93,
   "metadata": {},
   "outputs": [],
   "source": [
    "# Creating a StandardScater model and fit it to the training data\n",
    "X_scaler = StandardScaler().fit(X_train)"
   ]
  },
  {
   "cell_type": "code",
   "execution_count": 94,
   "metadata": {},
   "outputs": [],
   "source": [
    "#Transforming the training and testing data using the X_scaler and y_scaler models\n",
    "X_train_scaled = X_scaler.transform(X_train)\n",
    "X_test_scaled = X_scaler.transform(X_test)"
   ]
  },
  {
   "cell_type": "code",
   "execution_count": null,
   "metadata": {},
   "outputs": [],
   "source": []
  },
  {
   "cell_type": "code",
   "execution_count": 95,
   "metadata": {},
   "outputs": [
    {
     "data": {
      "text/plain": [
       "193.59493795035036"
      ]
     },
     "execution_count": 95,
     "metadata": {},
     "output_type": "execute_result"
    }
   ],
   "source": [
    "#Checking if y_test is odd\n",
    "math.sqrt(len(y_test))\n",
    "#Since its odd no need to use classifier "
   ]
  },
  {
   "cell_type": "code",
   "execution_count": 96,
   "metadata": {},
   "outputs": [],
   "source": [
    "#Defining model\n",
    "classifier= KNeighborsClassifier(n_neighbors= 193, p=2, metric= 'euclidean')"
   ]
  },
  {
   "cell_type": "code",
   "execution_count": 97,
   "metadata": {},
   "outputs": [
    {
     "data": {
      "text/plain": [
       "KNeighborsClassifier(algorithm='auto', leaf_size=30, metric='euclidean',\n",
       "                     metric_params=None, n_jobs=None, n_neighbors=193, p=2,\n",
       "                     weights='uniform')"
      ]
     },
     "execution_count": 97,
     "metadata": {},
     "output_type": "execute_result"
    }
   ],
   "source": [
    "#Fitting data train in the model\n",
    "classifier.fit(X_train, y_train)"
   ]
  },
  {
   "cell_type": "code",
   "execution_count": 98,
   "metadata": {},
   "outputs": [],
   "source": [
    "#Predicting the test set results\n",
    "y_pred= classifier.predict(X_test)"
   ]
  },
  {
   "cell_type": "code",
   "execution_count": 99,
   "metadata": {},
   "outputs": [
    {
     "name": "stdout",
     "output_type": "stream",
     "text": [
      "[[34552   365]\n",
      " [ 2112   450]]\n",
      "0.26650873556411014\n"
     ]
    }
   ],
   "source": [
    "#Evaluating model\n",
    "cm= confusion_matrix(y_test,y_pred)\n",
    "print(cm)\n",
    "print(f1_score(y_test, y_pred))"
   ]
  },
  {
   "cell_type": "code",
   "execution_count": 100,
   "metadata": {},
   "outputs": [
    {
     "name": "stdout",
     "output_type": "stream",
     "text": [
      "0.9339096560740682\n"
     ]
    }
   ],
   "source": [
    "print(accuracy_score(y_test, y_pred))"
   ]
  },
  {
   "cell_type": "markdown",
   "metadata": {},
   "source": [
    "According to the confusion matrix we can see that 34552 of predicted sales and markdowns are not on holidays and 450 are on holidays.\n",
    "Furthermore, there are 365 sales and markdowns on holidays and 2112 sales and markdowns not on holidays that are incorrect. \n",
    "The f_1 score is at a 27% accuracy which is very low. \n",
    "However, the accuracy score is at 93% which is pretty high. "
   ]
  },
  {
   "cell_type": "code",
   "execution_count": 101,
   "metadata": {},
   "outputs": [
    {
     "name": "stdout",
     "output_type": "stream",
     "text": [
      "k: 1, Train/Test Score: 1.000/0.999\n",
      "k: 3, Train/Test Score: 0.999/0.997\n",
      "k: 5, Train/Test Score: 0.998/0.997\n",
      "k: 7, Train/Test Score: 0.997/0.995\n",
      "k: 9, Train/Test Score: 0.997/0.995\n",
      "k: 11, Train/Test Score: 0.996/0.994\n",
      "k: 13, Train/Test Score: 0.995/0.994\n",
      "k: 15, Train/Test Score: 0.995/0.993\n",
      "k: 17, Train/Test Score: 0.994/0.993\n",
      "k: 19, Train/Test Score: 0.994/0.992\n"
     ]
    }
   ],
   "source": [
    " # Loop through different k values to see which has the highest accuracy\n",
    "# Note: We only use odd numbers because we don't want any ties\n",
    "train_scores = []\n",
    "test_scores = []\n",
    "for k in range(1, 20, 2):\n",
    "    knn = KNeighborsClassifier(n_neighbors=k)\n",
    "    knn.fit(X_train_scaled, y_train)\n",
    "    train_score = knn.score(X_train_scaled, y_train)\n",
    "    test_score = knn.score(X_test_scaled, y_test)\n",
    "    train_scores.append(train_score)\n",
    "    test_scores.append(test_score)\n",
    "    print(f\"k: {k}, Train/Test Score: {train_score:.3f}/{test_score:.3f}\")"
   ]
  },
  {
   "cell_type": "code",
   "execution_count": 102,
   "metadata": {},
   "outputs": [
    {
     "data": {
      "image/png": "[encoded data removed]",
      "text/plain": [
       "<Figure size 432x288 with 1 Axes>"
      ]
     },
     "metadata": {
      "needs_background": "light"
     },
     "output_type": "display_data"
    }
   ],
   "source": [
    "plt.plot(range(1, 20, 2), train_scores, marker='o')\n",
    "plt.plot(range(1, 20, 2), test_scores, marker=\"x\")\n",
    "plt.xlabel(\"k neighbors\")\n",
    "plt.ylabel(\"Testing accuracy Score\")\n",
    "plt.show()"
   ]
  },
  {
   "cell_type": "code",
   "execution_count": 103,
   "metadata": {},
   "outputs": [
    {
     "name": "stdout",
     "output_type": "stream",
     "text": [
      "k=13 Test Acc: 0.994\n"
     ]
    }
   ],
   "source": [
    " # Note that k: 13 seems to be the best choice for this dataset\n",
    "knn = KNeighborsClassifier(n_neighbors=13)\n",
    "knn.fit(X_train_scaled, y_train)\n",
    "print('k=13 Test Acc: %.3f' % knn.score(X_test_scaled, y_test))"
   ]
  },
  {
   "cell_type": "code",
   "execution_count": null,
   "metadata": {},
   "outputs": [],
   "source": []
  },
  {
   "cell_type": "code",
   "execution_count": null,
   "metadata": {},
   "outputs": [],
   "source": []
  }
 ],
 "metadata": {
  "kernelspec": {
   "display_name": "Python 3",
   "language": "python",
   "name": "python3"
  },
  "language_info": {
   "codemirror_mode": {
    "name": "ipython",
    "version": 3
   },
   "file_extension": ".py",
   "mimetype": "text/x-python",
   "name": "python",
   "nbconvert_exporter": "python",
   "pygments_lexer": "ipython3",
   "version": "3.7.6"
  }
 },
 "nbformat": 4,
 "nbformat_minor": 4
}
